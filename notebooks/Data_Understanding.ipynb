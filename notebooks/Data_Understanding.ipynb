{
  "nbformat": 4,
  "nbformat_minor": 0,
  "metadata": {
    "colab": {
      "provenance": [],
      "authorship_tag": "ABX9TyMH4WhEheBoVIXx5cDG9P8H",
      "include_colab_link": true
    },
    "kernelspec": {
      "name": "python3",
      "display_name": "Python 3"
    },
    "language_info": {
      "name": "python"
    }
  },
  "cells": [
    {
      "cell_type": "markdown",
      "metadata": {
        "id": "view-in-github",
        "colab_type": "text"
      },
      "source": [
        "<a href=\"https://colab.research.google.com/github/JuanLara18/Actuarial-DataMined-Provisiones/blob/main/notebooks/Data_Understanding.ipynb\" target=\"_parent\"><img src=\"https://colab.research.google.com/assets/colab-badge.svg\" alt=\"Open In Colab\"/></a>"
      ]
    },
    {
      "cell_type": "markdown",
      "source": [
        "The data can be download [here](https://www.casact.org/publications-research/research/research-resources/loss-reserving-data-pulled-naic-schedule-p)."
      ],
      "metadata": {
        "id": "kkQOGfyrqkxz"
      }
    },
    {
      "cell_type": "code",
      "source": [
        "import pandas as pd\n",
        "import matplotlib.pyplot as plt\n",
        "import seaborn as sns\n",
        "import numpy as np\n",
        "\n",
        "data = pd.read_csv(\"wkcomp_pos.csv\")"
      ],
      "metadata": {
        "id": "qSFCnscUVOcU"
      },
      "execution_count": 55,
      "outputs": []
    },
    {
      "cell_type": "code",
      "execution_count": 56,
      "metadata": {
        "colab": {
          "base_uri": "https://localhost:8080/"
        },
        "id": "aJxq-H5CQnHD",
        "outputId": "029d6ebc-4a98-46be-b602-cd3b43630017"
      },
      "outputs": [
        {
          "output_type": "stream",
          "name": "stdout",
          "text": [
            "Dataset Information:\n",
            "Number of Records: 13200\n",
            "Number of Attributes: 13\n"
          ]
        }
      ],
      "source": [
        "# Display basic information about the dataset\n",
        "print(\"Dataset Information:\")\n",
        "print(\"Number of Records:\", data.shape[0])\n",
        "print(\"Number of Attributes:\", data.shape[1])"
      ]
    },
    {
      "cell_type": "code",
      "source": [
        "# Display data types of attributes\n",
        "print(\"\\nData Types of Attributes:\")\n",
        "print(data.dtypes)"
      ],
      "metadata": {
        "colab": {
          "base_uri": "https://localhost:8080/"
        },
        "id": "5XD70dSCQ-mg",
        "outputId": "ca126e88-7a19-46f4-e0ea-51441b67b7b4"
      },
      "execution_count": 57,
      "outputs": [
        {
          "output_type": "stream",
          "name": "stdout",
          "text": [
            "\n",
            "Data Types of Attributes:\n",
            "GRCODE                int64\n",
            "GRNAME               object\n",
            "AccidentYear          int64\n",
            "DevelopmentYear       int64\n",
            "DevelopmentLag        int64\n",
            "IncurLoss_D           int64\n",
            "CumPaidLoss_D         int64\n",
            "BulkLoss_D            int64\n",
            "EarnedPremDIR_D       int64\n",
            "EarnedPremCeded_D     int64\n",
            "EarnedPremNet_D       int64\n",
            "Single                int64\n",
            "PostedReserve97_D     int64\n",
            "dtype: object\n"
          ]
        }
      ]
    },
    {
      "cell_type": "code",
      "source": [
        "# Check unique values and coding schemes for specific attributes\n",
        "print(\"\\nCoding Schemes:\")\n",
        "print(\"Number of unique values in 'GRCODE':\", len(data['GRCODE'].unique()))\n",
        "print(\"Number of unique values in 'GRNAME':\", len(data['GRNAME'].unique()))\n",
        "print(\"Number of unique values in 'AccidentYear':\", len(data['AccidentYear'].unique()))\n",
        "print(\"Number of unique values in 'DevelopmentYear':\", len(data['DevelopmentYear'].unique()))"
      ],
      "metadata": {
        "colab": {
          "base_uri": "https://localhost:8080/"
        },
        "id": "MRK6_hBEVCAu",
        "outputId": "53c25801-058c-42aa-fcb3-ca174083e41b"
      },
      "execution_count": 58,
      "outputs": [
        {
          "output_type": "stream",
          "name": "stdout",
          "text": [
            "\n",
            "Coding Schemes:\n",
            "Number of unique values in 'GRCODE': 132\n",
            "Number of unique values in 'GRNAME': 132\n",
            "Number of unique values in 'AccidentYear': 10\n",
            "Number of unique values in 'DevelopmentYear': 19\n"
          ]
        }
      ]
    },
    {
      "cell_type": "code",
      "source": [
        "# Extract de information in DataFrames\n",
        "Important_Variables = data.columns.delete([0,1,2,3,4,-1,-2,-3,-4,-5])\n",
        "DataComplete = {column : [] for column in Important_Variables}\n",
        "size = data.shape[0]\n",
        "\n",
        "for Variable in Important_Variables:\n",
        "  count = 0\n",
        "  while(size - 100*count > 1):\n",
        "    base_Variable = np.zeros((10,10))\n",
        "    for i in range(10):\n",
        "      for j in range(10):\n",
        "        base_Variable[i][j] = data[Variable][i*10+j + 10*count]\n",
        "    count = count + 1\n",
        "    DataComplete[Variable].append(pd.DataFrame(base_Variable))"
      ],
      "metadata": {
        "id": "LTpP8Fa2kuDZ"
      },
      "execution_count": 59,
      "outputs": []
    },
    {
      "cell_type": "code",
      "source": [
        "# Construct the Triangles\n",
        "def IncompleteDataFrame(x):\n",
        "  matrix = x.values\n",
        "  for i in range(9,0,-1):\n",
        "    for j in range(10-i,10,1):\n",
        "        matrix[i][j] = 0\n",
        "  return pd.DataFrame(matrix)\n",
        "\n",
        "Triangles = {}\n",
        "for variable, array in DataComplete.items():\n",
        "  Triangles[variable] = [IncompleteDataFrame(x) for x in array]"
      ],
      "metadata": {
        "id": "0cpsF1UB1bLO"
      },
      "execution_count": 60,
      "outputs": []
    },
    {
      "cell_type": "code",
      "source": [
        "# Find the basics statistics component by component for each variable\n",
        "Means = {}\n",
        "for variable, array in Triangles.items():\n",
        "  Means[variable] = pd.concat(array).groupby(level=0).mean()\n",
        "\n",
        "Var = {}\n",
        "for variable, array in Triangles.items():\n",
        "  Var[variable] = pd.concat(array).groupby(level=0).var()\n",
        "\n",
        "Min = {}\n",
        "for variable, array in Triangles.items():\n",
        "  Min[variable] = pd.concat(array).groupby(level=0).min()\n",
        "\n",
        "Max = {}\n",
        "for variable, array in Triangles.items():\n",
        "  Max[variable] = pd.concat(array).groupby(level=0).max()\n",
        "\n",
        "Median = {}\n",
        "for variable, array in Triangles.items():\n",
        "  Median[variable] = pd.concat(array).groupby(level=0).median()"
      ],
      "metadata": {
        "id": "9aKVPnGKgZts"
      },
      "execution_count": 61,
      "outputs": []
    },
    {
      "cell_type": "code",
      "source": [
        "# Define the function to plot the series\n",
        "def DrawGraph(x, name):\n",
        "  matrix = x.values\n",
        "  plt.figure(figsize=(9, 7))\n",
        "  plt.plot()\n",
        "\n",
        "  for i in range(10):\n",
        "    val = matrix[i]\n",
        "    for j in range(i):\n",
        "      val = val[:-1]\n",
        "    rang = range(1988,1988+len(val))\n",
        "    plt.plot(rang, val, marker='o', linestyle='-', label=1988+i)\n",
        "\n",
        "  plt.xlabel('Years')\n",
        "  plt.ylabel('Value')\n",
        "  plt.title(name)\n",
        "\n",
        "  plt.savefig(name, dpi=300, bbox_inches='tight')\n",
        "\n",
        "  plt.legend()"
      ],
      "metadata": {
        "id": "pCWzIcrDyDNO"
      },
      "execution_count": 62,
      "outputs": []
    },
    {
      "cell_type": "code",
      "source": [
        "# Export the graphs of the basis statistics\n",
        "for var in Important_Variables:\n",
        "  DrawGraph(Means[var], 'Mean: ' + var)\n",
        "\n",
        "for var in Important_Variables:\n",
        "  DrawGraph(Var[var], 'Variance: ' + var)\n",
        "\n",
        "for var in Important_Variables:\n",
        "  DrawGraph(Median[var], 'Median: ' + var)"
      ],
      "metadata": {
        "id": "DCCeZw2cJH33"
      },
      "execution_count": null,
      "outputs": []
    },
    {
      "cell_type": "code",
      "source": [
        "# PCA\n",
        "from sklearn.decomposition import PCA\n",
        "\n",
        "def dataframe_to_pca(dataframes, n_components):\n",
        "\n",
        "  X = np.array([])\n",
        "  for i in range(len(dataframes)):\n",
        "    flattened_vector = dataframes[i].values.flatten()\n",
        "    X = np.append(X, flattened_vector)\n",
        "\n",
        "  X = X.reshape(len(dataframes), -1)\n",
        "\n",
        "  pca = PCA(n_components=n_components)\n",
        "  pca_result = pca.fit_transform(X)\n",
        "\n",
        "  return pca_result"
      ],
      "metadata": {
        "id": "SdsNiny5KAAt"
      },
      "execution_count": 70,
      "outputs": []
    },
    {
      "cell_type": "code",
      "source": [
        "# Outliers"
      ],
      "metadata": {
        "id": "yViVm-rCshtc"
      },
      "execution_count": null,
      "outputs": []
    },
    {
      "cell_type": "code",
      "source": [
        "# Distributions / Hist"
      ],
      "metadata": {
        "id": "Wlor7XICxzlK"
      },
      "execution_count": null,
      "outputs": []
    },
    {
      "cell_type": "code",
      "source": [],
      "metadata": {
        "id": "cKZLE5vIyj6P"
      },
      "execution_count": null,
      "outputs": []
    }
  ]
}