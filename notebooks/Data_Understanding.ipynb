{
  "nbformat": 4,
  "nbformat_minor": 0,
  "metadata": {
    "colab": {
      "provenance": [],
      "authorship_tag": "ABX9TyNxHxibdbYNDwRIP7c1TV0I",
      "include_colab_link": true
    },
    "kernelspec": {
      "name": "python3",
      "display_name": "Python 3"
    },
    "language_info": {
      "name": "python"
    }
  },
  "cells": [
    {
      "cell_type": "markdown",
      "metadata": {
        "id": "view-in-github",
        "colab_type": "text"
      },
      "source": [
        "<a href=\"https://colab.research.google.com/github/JuanLara18/Actuarial-DataMined-Provisiones/blob/main/notebooks/Data_Understanding.ipynb\" target=\"_parent\"><img src=\"https://colab.research.google.com/assets/colab-badge.svg\" alt=\"Open In Colab\"/></a>"
      ]
    },
    {
      "cell_type": "code",
      "source": [
        "import pandas as pd\n",
        "import matplotlib.pyplot as plt\n",
        "import seaborn as sns\n",
        "import numpy as np\n",
        "\n",
        "data = pd.read_csv(\"wkcomp_pos.csv\")"
      ],
      "metadata": {
        "id": "qSFCnscUVOcU"
      },
      "execution_count": 1,
      "outputs": []
    },
    {
      "cell_type": "code",
      "execution_count": 2,
      "metadata": {
        "colab": {
          "base_uri": "https://localhost:8080/"
        },
        "id": "aJxq-H5CQnHD",
        "outputId": "d10c961a-d9b0-4597-85bb-6892fbbf1ee0"
      },
      "outputs": [
        {
          "output_type": "stream",
          "name": "stdout",
          "text": [
            "Dataset Information:\n",
            "Number of Records: 13200\n",
            "Number of Attributes: 13\n"
          ]
        }
      ],
      "source": [
        "# Display basic information about the dataset\n",
        "print(\"Dataset Information:\")\n",
        "print(\"Number of Records:\", data.shape[0])\n",
        "print(\"Number of Attributes:\", data.shape[1])"
      ]
    },
    {
      "cell_type": "code",
      "source": [
        "# Display data types of attributes\n",
        "print(\"\\nData Types of Attributes:\")\n",
        "print(data.dtypes)"
      ],
      "metadata": {
        "colab": {
          "base_uri": "https://localhost:8080/"
        },
        "id": "5XD70dSCQ-mg",
        "outputId": "155bbf1b-4e85-471f-bcef-621a1eea3ffa"
      },
      "execution_count": 3,
      "outputs": [
        {
          "output_type": "stream",
          "name": "stdout",
          "text": [
            "\n",
            "Data Types of Attributes:\n",
            "GRCODE                int64\n",
            "GRNAME               object\n",
            "AccidentYear          int64\n",
            "DevelopmentYear       int64\n",
            "DevelopmentLag        int64\n",
            "IncurLoss_D           int64\n",
            "CumPaidLoss_D         int64\n",
            "BulkLoss_D            int64\n",
            "EarnedPremDIR_D       int64\n",
            "EarnedPremCeded_D     int64\n",
            "EarnedPremNet_D       int64\n",
            "Single                int64\n",
            "PostedReserve97_D     int64\n",
            "dtype: object\n"
          ]
        }
      ]
    },
    {
      "cell_type": "code",
      "source": [
        "# Check unique values and coding schemes for specific attributes\n",
        "print(\"\\nCoding Schemes:\")\n",
        "print(\"Number of unique values in 'GRCODE':\", len(data['GRCODE'].unique()))\n",
        "print(\"Number of unique values in 'GRNAME':\", len(data['GRNAME'].unique()))\n",
        "print(\"Number of unique values in 'AccidentYear':\", len(data['AccidentYear'].unique()))\n",
        "print(\"Number of unique values in 'DevelopmentYear':\", len(data['DevelopmentYear'].unique()))"
      ],
      "metadata": {
        "colab": {
          "base_uri": "https://localhost:8080/"
        },
        "id": "MRK6_hBEVCAu",
        "outputId": "6ab65acc-444d-4c9d-9a63-6909ca1f6267"
      },
      "execution_count": 4,
      "outputs": [
        {
          "output_type": "stream",
          "name": "stdout",
          "text": [
            "\n",
            "Coding Schemes:\n",
            "Number of unique values in 'GRCODE': 132\n",
            "Number of unique values in 'GRNAME': 132\n",
            "Number of unique values in 'AccidentYear': 10\n",
            "Number of unique values in 'DevelopmentYear': 19\n"
          ]
        }
      ]
    },
    {
      "cell_type": "code",
      "source": [
        "# Extract de information in DataFrames\n",
        "Important_Variables = data.columns.delete([0,1,2,3,4,-1,-2,-3,-4,-5])\n",
        "DataComplete = {column : [] for column in Important_Variables}\n",
        "size = data.shape[0]\n",
        "\n",
        "for Variable in Important_Variables:\n",
        "  count = 0\n",
        "  while(size - 100*count > 1):\n",
        "    base_Variable = np.zeros((10,10))\n",
        "    for i in range(10):\n",
        "      for j in range(10):\n",
        "        base_Variable[i][j] = data[Variable][i*10+j + 10*count]\n",
        "    count = count + 1\n",
        "    DataComplete[Variable].append(pd.DataFrame(base_Variable))"
      ],
      "metadata": {
        "id": "LTpP8Fa2kuDZ"
      },
      "execution_count": 5,
      "outputs": []
    },
    {
      "cell_type": "code",
      "source": [
        "# Construct the Triangles\n",
        "def IncompleteDataFrame(x):\n",
        "  matrix = x.values\n",
        "  for i in range(9,0,-1):\n",
        "    for j in range(10-i,10,1):\n",
        "        matrix[i][j] = 0\n",
        "  return pd.DataFrame(matrix)\n",
        "\n",
        "Triangles = {}\n",
        "for variable, array in DataComplete.items():\n",
        "  Triangles[variable] = [IncompleteDataFrame(x) for x in array]"
      ],
      "metadata": {
        "id": "0cpsF1UB1bLO"
      },
      "execution_count": 6,
      "outputs": []
    },
    {
      "cell_type": "code",
      "source": [
        "# Find the basics statistics component by component for each variable\n",
        "Means = {}\n",
        "for variable, array in Triangles.items():\n",
        "  Means[variable] = pd.concat(array).groupby(level=0).mean()\n",
        "\n",
        "Var = {}\n",
        "for variable, array in Triangles.items():\n",
        "  Var[variable] = pd.concat(array).groupby(level=0).var()\n",
        "\n",
        "Min = {}\n",
        "for variable, array in Triangles.items():\n",
        "  Min[variable] = pd.concat(array).groupby(level=0).min()\n",
        "\n",
        "Max = {}\n",
        "for variable, array in Triangles.items():\n",
        "  Max[variable] = pd.concat(array).groupby(level=0).max()\n",
        "\n",
        "Median = {}\n",
        "for variable, array in Triangles.items():\n",
        "  Median[variable] = pd.concat(array).groupby(level=0).median()"
      ],
      "metadata": {
        "id": "9aKVPnGKgZts"
      },
      "execution_count": 7,
      "outputs": []
    },
    {
      "cell_type": "code",
      "source": [
        "# Define the function to plot the series\n",
        "def DrawGraph(x, name):\n",
        "  matrix = x.values\n",
        "  plt.figure(figsize=(9, 7))\n",
        "  plt.plot()\n",
        "\n",
        "  for i in range(10):\n",
        "    val = matrix[i]\n",
        "    for j in range(i):\n",
        "      val = val[:-1]\n",
        "    rang = range(1988,1988+len(val))\n",
        "    plt.plot(rang, val, marker='o', linestyle='-', label=1988+i)\n",
        "\n",
        "  plt.xlabel('Years')\n",
        "  plt.ylabel('Value')\n",
        "  plt.title(name)\n",
        "\n",
        "  plt.savefig(name, dpi=300, bbox_inches='tight')\n",
        "\n",
        "  plt.legend()"
      ],
      "metadata": {
        "id": "pCWzIcrDyDNO"
      },
      "execution_count": 8,
      "outputs": []
    },
    {
      "cell_type": "code",
      "source": [
        "# Export the graphs of the basis statistics\n",
        "for var in Important_Variables:\n",
        "  DrawGraph(Means[var], 'Mean: ' + var)\n",
        "\n",
        "for var in Important_Variables:\n",
        "  DrawGraph(Var[var], 'Variance: ' + var)\n",
        "\n",
        "for var in Important_Variables:\n",
        "  DrawGraph(Median[var], 'Median: ' + var)"
      ],
      "metadata": {
        "id": "DCCeZw2cJH33"
      },
      "execution_count": null,
      "outputs": []
    },
    {
      "cell_type": "code",
      "source": [
        "# PCA\n",
        "from sklearn.decomposition import PCA\n",
        "\n",
        "def dataframe_to_pca(dataframes, n_components):\n",
        "\n",
        "  X = np.array([])\n",
        "  for i in range(len(dataframes)):\n",
        "    flattened_vector = dataframes[i].values.flatten()\n",
        "    X = np.append(X, flattened_vector)\n",
        "\n",
        "  X = X.reshape(len(dataframes), -1)\n",
        "\n",
        "  pca = PCA(n_components=n_components)\n",
        "  pca_result = pca.fit_transform(X)\n",
        "\n",
        "  return pca_result\n",
        "\n",
        "cp = dataframe_to_pca(Triangles['BulkLoss_D'], 3)"
      ],
      "metadata": {
        "id": "SdsNiny5KAAt"
      },
      "execution_count": 52,
      "outputs": []
    },
    {
      "cell_type": "code",
      "source": [
        "cp"
      ],
      "metadata": {
        "id": "Qkv6LQbsq1_9",
        "outputId": "9a1d5232-eee9-4b83-c98a-5273e398b016",
        "colab": {
          "base_uri": "https://localhost:8080/"
        }
      },
      "execution_count": 53,
      "outputs": [
        {
          "output_type": "execute_result",
          "data": {
            "text/plain": [
              "array([[ 2.66298870e+05, -5.81457155e+04, -1.99504561e+04],\n",
              "       [ 2.24260936e+05, -7.96192811e+04,  7.10807243e+03],\n",
              "       [ 1.82804271e+05, -8.30475742e+04,  5.01798499e+04],\n",
              "       [ 1.38168302e+05, -6.39597896e+04,  7.77335474e+04],\n",
              "       [ 8.96626856e+04, -2.84211346e+04,  6.86342084e+04],\n",
              "       [ 5.93489601e+04,  6.77649170e+03,  5.73751852e+04],\n",
              "       [ 4.48622257e+04,  3.81777958e+04,  4.58050430e+04],\n",
              "       [ 4.26543340e+04,  6.28429695e+04,  3.23710095e+04],\n",
              "       [ 4.72903972e+04,  7.86555479e+04,  1.47463309e+04],\n",
              "       [ 6.50981266e+04,  7.51172639e+04,  1.03319164e+04],\n",
              "       [ 8.34984875e+04,  6.15968270e+04,  4.92184691e+03],\n",
              "       [ 8.71247884e+04,  4.63117697e+04, -2.39578966e+04],\n",
              "       [ 8.79804767e+04,  2.14688789e+04, -4.58610595e+04],\n",
              "       [ 8.73285752e+04, -8.66881338e+03, -4.44643568e+04],\n",
              "       [ 8.63908674e+04, -4.02105113e+04, -1.72300806e+04],\n",
              "       [ 7.15822396e+04, -5.45990437e+04,  7.80878901e+03],\n",
              "       [ 4.63060630e+04, -5.20523037e+04,  1.98187625e+04],\n",
              "       [ 2.09581224e+04, -4.20787477e+04,  2.40257911e+04],\n",
              "       [-1.37444190e+03, -2.84107633e+04,  1.79582798e+04],\n",
              "       [-2.02543611e+04, -1.40255507e+04,  3.70145506e+03],\n",
              "       [-3.12232944e+04, -5.51472730e+03, -7.48952052e+03],\n",
              "       [-2.83697767e+04,  1.88604761e+03,  8.21012518e+03],\n",
              "       [-2.40616529e+04,  1.50900570e+04,  2.59001822e+04],\n",
              "       [-1.87086040e+04,  3.22007014e+04,  3.60031869e+04],\n",
              "       [-9.65493886e+03,  5.39204620e+04,  4.19818935e+04],\n",
              "       [ 3.79397450e+03,  7.79756705e+04,  4.34484446e+04],\n",
              "       [ 2.21113059e+04,  9.83921838e+04,  3.38841753e+04],\n",
              "       [ 4.64276220e+04,  1.14023271e+05,  2.11023221e+04],\n",
              "       [ 7.66963355e+04,  1.25582072e+05,  1.39807066e+04],\n",
              "       [ 1.10455281e+05,  1.23666571e+05,  5.58691659e+03],\n",
              "       [ 1.48681032e+05,  1.14243029e+05,  1.04573279e+04],\n",
              "       [ 1.63747908e+05,  9.37544961e+04, -2.87254448e+04],\n",
              "       [ 1.73237582e+05,  5.46969633e+04, -6.19546428e+04],\n",
              "       [ 1.75735089e+05,  4.59404024e+03, -7.13836830e+04],\n",
              "       [ 1.64878693e+05, -3.91098928e+04, -6.07643880e+04],\n",
              "       [ 1.43513925e+05, -7.06653029e+04, -3.46982029e+04],\n",
              "       [ 1.16230344e+05, -8.96476200e+04,  3.73077765e+03],\n",
              "       [ 8.17345721e+04, -9.09542249e+04,  3.82573121e+04],\n",
              "       [ 4.00048866e+04, -7.14961278e+04,  4.63243258e+04],\n",
              "       [ 1.42889176e+03, -4.37428050e+04,  3.37132404e+04],\n",
              "       [-3.93656485e+04, -5.87930704e+03, -5.60334290e+03],\n",
              "       [-3.93647351e+04, -5.87650598e+03, -5.59886321e+03],\n",
              "       [-3.93575427e+04, -5.85446968e+03, -5.56525507e+03],\n",
              "       [-3.93559492e+04, -5.85079422e+03, -5.57383431e+03],\n",
              "       [-3.93527552e+04, -5.85059493e+03, -5.58926493e+03],\n",
              "       [-3.93495282e+04, -5.85401119e+03, -5.60497244e+03],\n",
              "       [-3.93462801e+04, -5.86079636e+03, -5.61565673e+03],\n",
              "       [-3.93430856e+04, -5.86998792e+03, -5.61950337e+03],\n",
              "       [-3.93395843e+04, -5.88081366e+03, -5.61672823e+03],\n",
              "       [-3.93375877e+04, -5.89117435e+03, -5.60495892e+03],\n",
              "       [-3.93366251e+04, -5.89957070e+03, -5.58835873e+03],\n",
              "       [-3.92874532e+04, -5.74120082e+03, -5.32096070e+03],\n",
              "       [-3.92363975e+04, -5.48351194e+03, -5.09221021e+03],\n",
              "       [-3.91126078e+04, -5.17416064e+03, -4.87179606e+03],\n",
              "       [-3.87182171e+04, -4.14353018e+03, -3.72126300e+03],\n",
              "       [-3.80534823e+04, -2.49436924e+03, -1.84222234e+03],\n",
              "       [-3.70661380e+04, -3.45392472e+02, -6.46314962e+02],\n",
              "       [-3.54036621e+04,  2.79999770e+03,  8.80528752e+02],\n",
              "       [-3.33670873e+04,  5.72812095e+03,  1.42742356e+03],\n",
              "       [-3.10610676e+04,  7.55388883e+03,  1.11004549e+02],\n",
              "       [-2.82756891e+04,  8.52946070e+03, -1.75923347e+03],\n",
              "       [-2.59128338e+04,  6.94692050e+03, -6.48634696e+03],\n",
              "       [-2.38427084e+04,  2.92297404e+03, -1.06038797e+04],\n",
              "       [-2.22979456e+04, -2.52463543e+03, -1.20695718e+04],\n",
              "       [-2.15474080e+04, -8.07634989e+03, -1.02173903e+04],\n",
              "       [-2.29953730e+04, -1.15392726e+04, -7.78442066e+03],\n",
              "       [-2.49990387e+04, -1.37824773e+04, -3.93372528e+03],\n",
              "       [-2.79713497e+04, -1.42148243e+04, -3.56683119e+02],\n",
              "       [-3.22037845e+04, -1.20374991e+04, -6.82238722e+01],\n",
              "       [-3.59262853e+04, -9.16171085e+03, -1.87154098e+03],\n",
              "       [-3.93655611e+04, -5.87940201e+03, -5.60326142e+03],\n",
              "       [-3.91521884e+04, -5.22469893e+03, -4.55644009e+03],\n",
              "       [-3.88159496e+04, -4.19700995e+03, -3.35794339e+03],\n",
              "       [-3.82832488e+04, -2.83074060e+03, -2.23594379e+03],\n",
              "       [-3.76012216e+04, -1.46751203e+03, -1.84470893e+03],\n",
              "       [-3.66910763e+04, -1.49184448e+02, -1.85117742e+03],\n",
              "       [-3.53774857e+04,  1.54329771e+03, -1.21655895e+03],\n",
              "       [-3.38202754e+04,  2.86993724e+03, -1.04936667e+03],\n",
              "       [-3.19320700e+04,  3.86026368e+03, -1.02807747e+03],\n",
              "       [-2.98460882e+04,  4.10849389e+03, -1.24352213e+03],\n",
              "       [-2.75348847e+04,  3.78627702e+03, -9.72973918e+02],\n",
              "       [-2.64800234e+04,  2.02174223e+03, -4.20736425e+03],\n",
              "       [-2.56782343e+04, -6.59004234e+02, -7.03018451e+03],\n",
              "       [-2.54644850e+04, -3.44736536e+03, -8.35578214e+03],\n",
              "       [-2.53144237e+04, -6.48119633e+03, -7.08285761e+03],\n",
              "       [-2.57759522e+04, -8.42579663e+03, -4.24075215e+03],\n",
              "       [-2.74008120e+04, -8.66244060e+03, -1.96732285e+03],\n",
              "       [-2.91266825e+04, -7.75600994e+03,  7.54361788e-01],\n",
              "       [-3.09720176e+04, -5.49123247e+03,  8.16577752e+02],\n",
              "       [-3.26712692e+04, -2.70989801e+03, -4.74766655e+02],\n",
              "       [-3.43008998e+04, -1.88440688e+02, -4.14673168e+03],\n",
              "       [-3.31540842e+04, -4.88954381e+02, -4.89437941e+03],\n",
              "       [-3.19861969e+04, -1.09365116e+03, -5.10354673e+03],\n",
              "       [-3.12191480e+04, -1.83416038e+03, -5.31251084e+03],\n",
              "       [-3.04706467e+04, -2.83830265e+03, -4.49783519e+03],\n",
              "       [-3.00590272e+04, -3.28916942e+03, -3.07137505e+03],\n",
              "       [-2.97395375e+04, -2.68998217e+03, -5.50285699e+02],\n",
              "       [-2.94068121e+04, -5.14533865e+02,  2.21699275e+03],\n",
              "       [-2.90876106e+04,  2.55730534e+03,  2.72338182e+03],\n",
              "       [-2.84429777e+04,  4.66365065e+03,  2.83705093e+01],\n",
              "       [-2.68331928e+04,  5.72801964e+03, -2.73800520e+03],\n",
              "       [-2.51037943e+04,  5.24282775e+03, -6.73220611e+03],\n",
              "       [-2.34112029e+04,  2.49025732e+03, -1.08028755e+04],\n",
              "       [-2.18148443e+04, -1.56721834e+03, -1.21216653e+04],\n",
              "       [-2.10609019e+04, -6.08448441e+03, -1.07960507e+04],\n",
              "       [-2.09333813e+04, -1.04613314e+04, -6.02006435e+03],\n",
              "       [-2.31034497e+04, -1.20103765e+04, -2.29152001e+03],\n",
              "       [-2.75273821e+04, -1.02588565e+04, -2.22464081e+03],\n",
              "       [-3.06706613e+04, -9.12285387e+03, -2.04117123e+03],\n",
              "       [-3.28353138e+04, -8.24902271e+03, -2.64957298e+03],\n",
              "       [-3.60498594e+04, -5.80547875e+03, -6.36316355e+03],\n",
              "       [-3.61768378e+04, -6.54067380e+03, -6.00824198e+03],\n",
              "       [-3.64315016e+04, -7.05550776e+03, -5.51344629e+03],\n",
              "       [-3.71071057e+04, -7.05663789e+03, -5.35952851e+03],\n",
              "       [-3.75514997e+04, -7.12125332e+03, -4.86642310e+03],\n",
              "       [-3.81331214e+04, -6.89231670e+03, -4.71643854e+03],\n",
              "       [-3.88033037e+04, -6.38972828e+03, -5.06460979e+03],\n",
              "       [-3.93557979e+04, -5.88758588e+03, -5.59469476e+03],\n",
              "       [-3.93648226e+04, -5.87967377e+03, -5.60346918e+03],\n",
              "       [-3.93648019e+04, -5.87992737e+03, -5.60292696e+03],\n",
              "       [-3.93648045e+04, -5.88008171e+03, -5.60242742e+03],\n",
              "       [-3.93566059e+04, -5.85157653e+03, -5.55899400e+03],\n",
              "       [-3.93465796e+04, -5.82087866e+03, -5.53329265e+03],\n",
              "       [-3.92963549e+04, -5.68057956e+03, -5.39073843e+03],\n",
              "       [-3.92123173e+04, -5.46412057e+03, -5.23371701e+03],\n",
              "       [-3.90231764e+04, -5.01406083e+03, -4.91884700e+03],\n",
              "       [-3.86864884e+04, -4.26483118e+03, -4.32111579e+03],\n",
              "       [-3.82775552e+04, -3.55492332e+03, -4.13699143e+03],\n",
              "       [-3.77610357e+04, -2.95934005e+03, -4.23666287e+03],\n",
              "       [-3.71651392e+04, -2.59066669e+03, -4.49211585e+03],\n",
              "       [-3.64747350e+04, -2.47784603e+03, -4.90551886e+03],\n",
              "       [-3.57527905e+04, -2.52913494e+03, -5.26299938e+03]])"
            ]
          },
          "metadata": {},
          "execution_count": 53
        }
      ]
    },
    {
      "cell_type": "code",
      "source": [
        "len(cp)"
      ],
      "metadata": {
        "id": "yViVm-rCshtc",
        "outputId": "5e6e8a18-44a4-4e75-d0fd-a8e7eb6d8da4",
        "colab": {
          "base_uri": "https://localhost:8080/"
        }
      },
      "execution_count": 51,
      "outputs": [
        {
          "output_type": "execute_result",
          "data": {
            "text/plain": [
              "132"
            ]
          },
          "metadata": {},
          "execution_count": 51
        }
      ]
    }
  ]
}