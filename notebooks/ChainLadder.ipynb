{
  "nbformat": 4,
  "nbformat_minor": 0,
  "metadata": {
    "colab": {
      "provenance": [],
      "authorship_tag": "ABX9TyP1dapx0gRk6Z6uBR/3BsCM",
      "include_colab_link": true
    },
    "kernelspec": {
      "name": "python3",
      "display_name": "Python 3"
    },
    "language_info": {
      "name": "python"
    }
  },
  "cells": [
    {
      "cell_type": "markdown",
      "metadata": {
        "id": "view-in-github",
        "colab_type": "text"
      },
      "source": [
        "<a href=\"https://colab.research.google.com/github/JuanLara18/Actuarial-DataMined-Provisiones/blob/main/notebooks/ChainLadder.ipynb\" target=\"_parent\"><img src=\"https://colab.research.google.com/assets/colab-badge.svg\" alt=\"Open In Colab\"/></a>"
      ]
    },
    {
      "cell_type": "code",
      "source": [
        "\n",
        "import pandas as pd\n",
        "import matplotlib.pyplot as plt\n",
        "import seaborn as sns\n",
        "import numpy as np\n",
        "\n",
        "df = pd.read_csv(\"wkcomp_pos.csv\")"
      ],
      "metadata": {
        "id": "fBlHy8apiSO7"
      },
      "execution_count": 4,
      "outputs": []
    },
    {
      "cell_type": "code",
      "execution_count": 5,
      "metadata": {
        "colab": {
          "base_uri": "https://localhost:8080/",
          "height": 256
        },
        "id": "2MVV2wYfhJ6V",
        "outputId": "04643514-4c1e-4e78-ff7e-3cf7a9fe0bc1"
      },
      "outputs": [
        {
          "output_type": "error",
          "ename": "TypeError",
          "evalue": "ignored",
          "traceback": [
            "\u001b[0;31m---------------------------------------------------------------------------\u001b[0m",
            "\u001b[0;31mTypeError\u001b[0m                                 Traceback (most recent call last)",
            "\u001b[0;32m<ipython-input-5-0701cae31119>\u001b[0m in \u001b[0;36m<cell line: 54>\u001b[0;34m()\u001b[0m\n\u001b[1;32m     52\u001b[0m         \u001b[0;32mreturn\u001b[0m \u001b[0mdiccionario_todos_triangulos\u001b[0m\u001b[0;34m\u001b[0m\u001b[0;34m\u001b[0m\u001b[0m\n\u001b[1;32m     53\u001b[0m \u001b[0;34m\u001b[0m\u001b[0m\n\u001b[0;32m---> 54\u001b[0;31m \u001b[0mresultados\u001b[0m \u001b[0;34m=\u001b[0m \u001b[0mChainLadder\u001b[0m\u001b[0;34m(\u001b[0m\u001b[0mtabla\u001b[0m \u001b[0;34m=\u001b[0m \u001b[0mdf\u001b[0m\u001b[0;34m)\u001b[0m\u001b[0;34m\u001b[0m\u001b[0;34m\u001b[0m\u001b[0m\n\u001b[0m\u001b[1;32m     55\u001b[0m \u001b[0mtriangulos_resultados\u001b[0m \u001b[0;34m=\u001b[0m \u001b[0mresultados\u001b[0m\u001b[0;34m.\u001b[0m\u001b[0mTriangulos\u001b[0m\u001b[0;34m(\u001b[0m\u001b[0;34m)\u001b[0m\u001b[0;34m\u001b[0m\u001b[0;34m\u001b[0m\u001b[0m\n\u001b[1;32m     56\u001b[0m \u001b[0mtriangulos_resultados\u001b[0m\u001b[0;34m[\u001b[0m\u001b[0;34m\"Triangulo 13439\"\u001b[0m\u001b[0;34m]\u001b[0m\u001b[0;34m[\u001b[0m\u001b[0;34m\"Triangulo_estimado\"\u001b[0m\u001b[0;34m]\u001b[0m\u001b[0;34m\u001b[0m\u001b[0;34m\u001b[0m\u001b[0m\n",
            "\u001b[0;31mTypeError\u001b[0m: ChainLadder() takes no arguments"
          ]
        }
      ],
      "source": [
        "class ChainLadder:\n",
        "    def _init_(self, tabla = pd.DataFrame(), origin = \"\", development = \"\", columns = \"\", index = \"\"):\n",
        "\n",
        "        self.tabla = tabla #OK\n",
        "        self.origin = origin #OK\n",
        "        self.development = development #OK\n",
        "        self.index = index #OK\n",
        "        self.columns = columns #OK\n",
        "\n",
        "    def Triangulos(self):\n",
        "\n",
        "        # Renombrar las columnas\n",
        "        datos = self.tabla.rename(columns={self.origin: \"AccidentYear\", self.development: \"DevelopmentLag\", self.columns: \"IncurLoss_C\",\n",
        "                                          self.index: \"GRCODE\"})\n",
        "\n",
        "        diccionario_todos_triangulos = {}\n",
        "\n",
        "        for k in datos[\"GRCODE\"].unique():\n",
        "\n",
        "            Filtro_datos = datos[datos[\"GRCODE\"] == k]\n",
        "\n",
        "            Triangulo_full = Filtro_datos.pivot_table(values = \"IncurLoss_C\", index = \"AccidentYear\", columns='DevelopmentLag', aggfunc=\"sum\", margins=False)\n",
        "            Triangulo_full_acumulado = Triangulo_full.copy()\n",
        "            for indice, i in enumerate(range(1,num_columnas+1)):\n",
        "                Triangulo_full_acumulado[Triangulo_full.columns[indice]] = Triangulo_full[Triangulo_full.columns[0:i]].sum(axis = 1)\n",
        "\n",
        "            num_filas = Triangulo_full_acumulado.shape[0]\n",
        "\n",
        "            Triangulo_acumulado_mitad = Triangulo_full_acumulado.copy()\n",
        "            for i in range(num_filas):\n",
        "                for j in range(1,i+1):\n",
        "                    Triangulo_acumulado_mitad.iloc[i, -j] = None  # Puedes establecerlo en None u otro valor si lo prefieres\n",
        "\n",
        "            factores0 = Triangulo_acumulado_mitad.sum(axis = 0) # Rojo\n",
        "            factores1 = Triangulo_acumulado_mitad.sum(axis = 0)-np.flip(np.diag(np.fliplr(Triangulo_acumulado_mitad), 0)) # Azul\n",
        "            factores0 = factores0[1:10]\n",
        "            factores1 = factores1[0:-1]\n",
        "            factores = factores0.reset_index(drop = True) / factores1.reset_index(drop = True)\n",
        "\n",
        "            Triangulo_estimado = Triangulo_acumulado_mitad.copy()\n",
        "            for i in list(reversed(range(num_filas))):\n",
        "                comodin = np.diag(np.fliplr(Triangulo_acumulado_mitad), 0)[i]\n",
        "                for j in range(1,i+1):\n",
        "                    Triangulo_estimado.iloc[i, -j] = comodin*factores.iloc[-i+9:-j+10].prod()   # Puedes establecerlo en None u otro valor si lo prefieres\n",
        "\n",
        "            diciconario_triangulo = {'Triangulo_full':Triangulo_full, \"Triangulo_full_acumulado\":Triangulo_full_acumulado,\n",
        "                                     \"Triangulo_acumulado_mitad\":Triangulo_acumulado_mitad, \"factores\":factores, \"Triangulo_estimado\":Triangulo_estimado}\n",
        "\n",
        "            nombre = \"Triangulo \" + str(k)\n",
        "            diccionario_todos_triangulos[nombre] = diciconario_triangulo\n",
        "\n",
        "        return diccionario_todos_triangulos\n",
        "\n",
        "resultados = ChainLadder(tabla = df)\n",
        "triangulos_resultados = resultados.Triangulos()\n",
        "triangulos_resultados[\"Triangulo 13439\"][\"Triangulo_estimado\"]"
      ]
    },
    {
      "cell_type": "code",
      "source": [],
      "metadata": {
        "id": "k_Hyl2xThN8A"
      },
      "execution_count": null,
      "outputs": []
    }
  ]
}