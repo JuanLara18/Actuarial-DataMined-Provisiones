{
  "nbformat": 4,
  "nbformat_minor": 0,
  "metadata": {
    "colab": {
      "provenance": [],
      "authorship_tag": "ABX9TyMQNOkZmBXlZOkxOiOVq2qD",
      "include_colab_link": true
    },
    "kernelspec": {
      "name": "python3",
      "display_name": "Python 3"
    },
    "language_info": {
      "name": "python"
    }
  },
  "cells": [
    {
      "cell_type": "markdown",
      "metadata": {
        "id": "view-in-github",
        "colab_type": "text"
      },
      "source": [
        "<a href=\"https://colab.research.google.com/github/JuanLara18/Actuarial-DataMined-Provisiones/blob/main/notebooks/Project_I.ipynb\" target=\"_parent\"><img src=\"https://colab.research.google.com/assets/colab-badge.svg\" alt=\"Open In Colab\"/></a>"
      ]
    },
    {
      "cell_type": "markdown",
      "source": [
        "The data can be download [here](https://www.casact.org/publications-research/research/research-resources/loss-reserving-data-pulled-naic-schedule-p)."
      ],
      "metadata": {
        "id": "kkQOGfyrqkxz"
      }
    },
    {
      "cell_type": "markdown",
      "source": [
        "# Data Understanding"
      ],
      "metadata": {
        "id": "-BTSJ6SFuptX"
      }
    },
    {
      "cell_type": "code",
      "source": [
        "import pandas as pd\n",
        "import matplotlib.pyplot as plt\n",
        "import seaborn as sns\n",
        "import numpy as np\n",
        "\n",
        "data = pd.read_csv(\"wkcomp_pos.csv\")"
      ],
      "metadata": {
        "id": "qSFCnscUVOcU"
      },
      "execution_count": 1,
      "outputs": []
    },
    {
      "cell_type": "code",
      "execution_count": 2,
      "metadata": {
        "colab": {
          "base_uri": "https://localhost:8080/"
        },
        "id": "aJxq-H5CQnHD",
        "outputId": "77438cb2-3f5c-4447-af4d-ae9511784205"
      },
      "outputs": [
        {
          "output_type": "stream",
          "name": "stdout",
          "text": [
            "Dataset Information:\n",
            "Number of Records: 13200\n",
            "Number of Attributes: 13\n"
          ]
        }
      ],
      "source": [
        "# Display basic information about the dataset\n",
        "print(\"Dataset Information:\")\n",
        "print(\"Number of Records:\", data.shape[0])\n",
        "print(\"Number of Attributes:\", data.shape[1])"
      ]
    },
    {
      "cell_type": "code",
      "source": [
        "# Display data types of attributes\n",
        "print(\"\\nData Types of Attributes:\")\n",
        "print(data.dtypes)"
      ],
      "metadata": {
        "colab": {
          "base_uri": "https://localhost:8080/"
        },
        "id": "5XD70dSCQ-mg",
        "outputId": "93ed39ee-3b86-4907-908e-a79da6ff070d"
      },
      "execution_count": 3,
      "outputs": [
        {
          "output_type": "stream",
          "name": "stdout",
          "text": [
            "\n",
            "Data Types of Attributes:\n",
            "GRCODE                int64\n",
            "GRNAME               object\n",
            "AccidentYear          int64\n",
            "DevelopmentYear       int64\n",
            "DevelopmentLag        int64\n",
            "IncurLoss_D           int64\n",
            "CumPaidLoss_D         int64\n",
            "BulkLoss_D            int64\n",
            "EarnedPremDIR_D       int64\n",
            "EarnedPremCeded_D     int64\n",
            "EarnedPremNet_D       int64\n",
            "Single                int64\n",
            "PostedReserve97_D     int64\n",
            "dtype: object\n"
          ]
        }
      ]
    },
    {
      "cell_type": "code",
      "source": [
        "# Check unique values and coding schemes for specific attributes\n",
        "print(\"\\nCoding Schemes:\")\n",
        "print(\"Number of unique values in 'GRCODE':\", len(data['GRCODE'].unique()))\n",
        "print(\"Number of unique values in 'GRNAME':\", len(data['GRNAME'].unique()))\n",
        "print(\"Number of unique values in 'AccidentYear':\", len(data['AccidentYear'].unique()))\n",
        "print(\"Number of unique values in 'DevelopmentYear':\", len(data['DevelopmentYear'].unique()))"
      ],
      "metadata": {
        "colab": {
          "base_uri": "https://localhost:8080/"
        },
        "id": "MRK6_hBEVCAu",
        "outputId": "d045df4e-459c-4dd4-cc49-495486d5b462"
      },
      "execution_count": 4,
      "outputs": [
        {
          "output_type": "stream",
          "name": "stdout",
          "text": [
            "\n",
            "Coding Schemes:\n",
            "Number of unique values in 'GRCODE': 132\n",
            "Number of unique values in 'GRNAME': 132\n",
            "Number of unique values in 'AccidentYear': 10\n",
            "Number of unique values in 'DevelopmentYear': 19\n"
          ]
        }
      ]
    },
    {
      "cell_type": "markdown",
      "source": [
        "# Data Preparation and Statistics Related"
      ],
      "metadata": {
        "id": "oUHliESUuh5e"
      }
    },
    {
      "cell_type": "code",
      "source": [
        "# Extract de information in DataFrames\n",
        "Important_Variables = data.columns.delete([0,1,2,3,4,-1,-2,-3,-4,-5])\n",
        "DataComplete = {column : [] for column in Important_Variables}\n",
        "size = data.shape[0]\n",
        "\n",
        "for Variable in Important_Variables:\n",
        "  count = 0\n",
        "  while(size - 100*count > 1):\n",
        "    base_Variable = np.zeros((10,10))\n",
        "    for i in range(10):\n",
        "      for j in range(10):\n",
        "        base_Variable[i][j] = data[Variable][i*10+j + 10*count]\n",
        "    count = count + 1\n",
        "    DataComplete[Variable].append(pd.DataFrame(base_Variable))"
      ],
      "metadata": {
        "id": "LTpP8Fa2kuDZ"
      },
      "execution_count": 5,
      "outputs": []
    },
    {
      "cell_type": "code",
      "source": [
        "# Construct the Triangles\n",
        "def IncompleteDataFrame(x):\n",
        "  matrix = x.values\n",
        "  for i in range(9,0,-1):\n",
        "    for j in range(10-i,10,1):\n",
        "        matrix[i][j] = 0\n",
        "  return pd.DataFrame(matrix)\n",
        "\n",
        "Triangles = {}\n",
        "for variable, array in DataComplete.items():\n",
        "  Triangles[variable] = [IncompleteDataFrame(x) for x in array]"
      ],
      "metadata": {
        "id": "0cpsF1UB1bLO"
      },
      "execution_count": 6,
      "outputs": []
    },
    {
      "cell_type": "code",
      "source": [
        "# Find the basics statistics component by component for each variable\n",
        "Means = {}\n",
        "for variable, array in Triangles.items():\n",
        "  Means[variable] = pd.concat(array).groupby(level=0).mean()\n",
        "\n",
        "Var = {}\n",
        "for variable, array in Triangles.items():\n",
        "  Var[variable] = pd.concat(array).groupby(level=0).var()\n",
        "\n",
        "Min = {}\n",
        "for variable, array in Triangles.items():\n",
        "  Min[variable] = pd.concat(array).groupby(level=0).min()\n",
        "\n",
        "Max = {}\n",
        "for variable, array in Triangles.items():\n",
        "  Max[variable] = pd.concat(array).groupby(level=0).max()\n",
        "\n",
        "Median = {}\n",
        "for variable, array in Triangles.items():\n",
        "  Median[variable] = pd.concat(array).groupby(level=0).median()"
      ],
      "metadata": {
        "id": "9aKVPnGKgZts"
      },
      "execution_count": null,
      "outputs": []
    },
    {
      "cell_type": "code",
      "source": [
        "# Define the function to plot the series\n",
        "def DrawGraph(x, name):\n",
        "  matrix = x.values\n",
        "  plt.figure(figsize=(9, 7))\n",
        "  plt.plot()\n",
        "\n",
        "  for i in range(10):\n",
        "    val = matrix[i]\n",
        "    for j in range(i):\n",
        "      val = val[:-1]\n",
        "    rang = range(1988,1988+len(val))\n",
        "    plt.plot(rang, val, marker='o', linestyle='-', label=1988+i)\n",
        "\n",
        "  plt.xlabel('Years')\n",
        "  plt.ylabel('Value')\n",
        "  plt.title(name)\n",
        "\n",
        "  plt.savefig(name, dpi=300, bbox_inches='tight')\n",
        "\n",
        "  plt.legend()"
      ],
      "metadata": {
        "id": "pCWzIcrDyDNO"
      },
      "execution_count": null,
      "outputs": []
    },
    {
      "cell_type": "code",
      "source": [
        "# Export the graphs of the basis statistics\n",
        "for var in Important_Variables:\n",
        "  DrawGraph(Means[var], 'Mean: ' + var)\n",
        "\n",
        "for var in Important_Variables:\n",
        "  DrawGraph(Var[var], 'Variance: ' + var)\n",
        "\n",
        "for var in Important_Variables:\n",
        "  DrawGraph(Median[var], 'Median: ' + var)"
      ],
      "metadata": {
        "id": "DCCeZw2cJH33"
      },
      "execution_count": null,
      "outputs": []
    },
    {
      "cell_type": "code",
      "source": [
        "# PCA\n",
        "from sklearn.decomposition import PCA\n",
        "\n",
        "def dataframe_to_pca(dataframes, n_components):\n",
        "\n",
        "  X = np.array([])\n",
        "  for i in range(len(dataframes)):\n",
        "    flattened_vector = dataframes[i].values.flatten()\n",
        "    X = np.append(X, flattened_vector)\n",
        "\n",
        "  X = X.reshape(len(dataframes), -1)\n",
        "\n",
        "  pca = PCA(n_components=n_components)\n",
        "  pca_result = pca.fit_transform(X)\n",
        "\n",
        "  return pca_result"
      ],
      "metadata": {
        "id": "SdsNiny5KAAt"
      },
      "execution_count": null,
      "outputs": []
    },
    {
      "cell_type": "code",
      "source": [
        "# Outliers"
      ],
      "metadata": {
        "id": "yViVm-rCshtc"
      },
      "execution_count": null,
      "outputs": []
    },
    {
      "cell_type": "code",
      "source": [
        "# Distributions / Hist"
      ],
      "metadata": {
        "id": "Wlor7XICxzlK"
      },
      "execution_count": null,
      "outputs": []
    },
    {
      "cell_type": "markdown",
      "source": [
        "# Models"
      ],
      "metadata": {
        "id": "8c09QBtRu2kg"
      }
    },
    {
      "cell_type": "markdown",
      "source": [
        "## Chain Ladder determinists"
      ],
      "metadata": {
        "id": "wNQv1OJMu7EJ"
      }
    },
    {
      "cell_type": "code",
      "source": [
        "def chain_ladder_deterministic(data):\n",
        "    development_factors = []  # Lista de factores de desarrollo\n",
        "    cumulative_factors = []    # Lista de factores acumulados\n",
        "\n",
        "    # Calcular los factores de desarrollo\n",
        "    for i in range(1, len(data)):\n",
        "        development_factor = sum(data[i]) / sum(data[i - 1])\n",
        "        development_factors.append(development_factor)\n",
        "\n",
        "    # Calcular los factores acumulados\n",
        "    cumulative_factor = 1\n",
        "    for factor in development_factors:\n",
        "        cumulative_factor *= factor\n",
        "        cumulative_factors.append(cumulative_factor)\n",
        "\n",
        "    # Proyectar reclamaciones futuras\n",
        "    ultimate_claim = sum(data[0]) * cumulative_factors[-1]\n",
        "    projected_claims = [ultimate_claim * factor for factor in cumulative_factors]\n",
        "\n",
        "    # Completar el triángulo de datos con las proyecciones\n",
        "    full_data = data.copy()\n",
        "    for i in range(len(data), len(data) + len(projected_claims)):\n",
        "        full_data.append([projected_claims[i - len(data)]])\n",
        "\n",
        "    return full_data\n",
        "\n",
        "# Ejemplo de uso\n",
        "data = Triangles['IncurLoss_D'][0]\n",
        "\n",
        "full_data = chain_ladder_deterministic(data)\n",
        "\n",
        "print(full_data)\n"
      ],
      "metadata": {
        "colab": {
          "base_uri": "https://localhost:8080/"
        },
        "id": "KAhAMznmu6mN",
        "outputId": "2777d0a1-5c65-4ff5-8723-32e182ef7aa5"
      },
      "execution_count": 21,
      "outputs": [
        {
          "output_type": "stream",
          "name": "stdout",
          "text": [
            "          0         1         2         3         4         5         6  \\\n",
            "0  367404.0  362988.0  347288.0  330648.0  354690.0  350092.0  346808.0   \n",
            "1  336928.0  316483.0  278496.0  303033.0  299496.0  295061.0  299251.0   \n",
            "2  289198.0  311381.0  277980.0  277732.0  276563.0  278067.0  276704.0   \n",
            "3  297174.0  277209.0  269739.0  272666.0  271318.0  267578.0  269592.0   \n",
            "4  181796.0  205079.0  199106.0  187833.0  185663.0  184940.0       0.0   \n",
            "5  114807.0  114774.0  101460.0   98430.0   96930.0       0.0       0.0   \n",
            "6  107934.0  107569.0   97730.0   96185.0       0.0       0.0       0.0   \n",
            "7  100686.0   94456.0   92314.0       0.0       0.0       0.0       0.0   \n",
            "8   53381.0   51205.0       0.0       0.0       0.0       0.0       0.0   \n",
            "9    6725.0       0.0       0.0       0.0       0.0       0.0       0.0   \n",
            "\n",
            "          7         8         9  \n",
            "0  349124.0  348157.0  347762.0  \n",
            "1  297492.0  300620.0       0.0  \n",
            "2  281101.0       0.0       0.0  \n",
            "3       0.0       0.0       0.0  \n",
            "4       0.0       0.0       0.0  \n",
            "5       0.0       0.0       0.0  \n",
            "6       0.0       0.0       0.0  \n",
            "7       0.0       0.0       0.0  \n",
            "8       0.0       0.0       0.0  \n",
            "9       0.0       0.0       0.0  \n"
          ]
        },
        {
          "output_type": "stream",
          "name": "stderr",
          "text": [
            "<ipython-input-21-7e29dce78586>:23: FutureWarning: The frame.append method is deprecated and will be removed from pandas in a future version. Use pandas.concat instead.\n",
            "  full_data.append([projected_claims[i - len(data)]])\n"
          ]
        }
      ]
    },
    {
      "cell_type": "code",
      "source": [
        "Triangles.keys()"
      ],
      "metadata": {
        "id": "cKZLE5vIyj6P",
        "colab": {
          "base_uri": "https://localhost:8080/"
        },
        "outputId": "ac91ebb6-e011-4e8a-b605-60a6edc33be2"
      },
      "execution_count": 14,
      "outputs": [
        {
          "output_type": "execute_result",
          "data": {
            "text/plain": [
              "dict_keys(['IncurLoss_D', 'CumPaidLoss_D', 'BulkLoss_D'])"
            ]
          },
          "metadata": {},
          "execution_count": 14
        }
      ]
    },
    {
      "cell_type": "code",
      "source": [
        "Triangles['IncurLoss_D'][0]"
      ],
      "metadata": {
        "id": "QuHh5OJkv9Mi",
        "outputId": "cb97669a-fb01-403a-ee8a-fd047d9f93a0",
        "colab": {
          "base_uri": "https://localhost:8080/",
          "height": 363
        }
      },
      "execution_count": 15,
      "outputs": [
        {
          "output_type": "execute_result",
          "data": {
            "text/plain": [
              "          0         1         2         3         4         5         6  \\\n",
              "0  367404.0  362988.0  347288.0  330648.0  354690.0  350092.0  346808.0   \n",
              "1  336928.0  316483.0  278496.0  303033.0  299496.0  295061.0  299251.0   \n",
              "2  289198.0  311381.0  277980.0  277732.0  276563.0  278067.0  276704.0   \n",
              "3  297174.0  277209.0  269739.0  272666.0  271318.0  267578.0  269592.0   \n",
              "4  181796.0  205079.0  199106.0  187833.0  185663.0  184940.0       0.0   \n",
              "5  114807.0  114774.0  101460.0   98430.0   96930.0       0.0       0.0   \n",
              "6  107934.0  107569.0   97730.0   96185.0       0.0       0.0       0.0   \n",
              "7  100686.0   94456.0   92314.0       0.0       0.0       0.0       0.0   \n",
              "8   53381.0   51205.0       0.0       0.0       0.0       0.0       0.0   \n",
              "9    6725.0       0.0       0.0       0.0       0.0       0.0       0.0   \n",
              "\n",
              "          7         8         9  \n",
              "0  349124.0  348157.0  347762.0  \n",
              "1  297492.0  300620.0       0.0  \n",
              "2  281101.0       0.0       0.0  \n",
              "3       0.0       0.0       0.0  \n",
              "4       0.0       0.0       0.0  \n",
              "5       0.0       0.0       0.0  \n",
              "6       0.0       0.0       0.0  \n",
              "7       0.0       0.0       0.0  \n",
              "8       0.0       0.0       0.0  \n",
              "9       0.0       0.0       0.0  "
            ],
            "text/html": [
              "\n",
              "  <div id=\"df-b33e012e-f50b-41b2-9eb7-43fbbd514c72\" class=\"colab-df-container\">\n",
              "    <div>\n",
              "<style scoped>\n",
              "    .dataframe tbody tr th:only-of-type {\n",
              "        vertical-align: middle;\n",
              "    }\n",
              "\n",
              "    .dataframe tbody tr th {\n",
              "        vertical-align: top;\n",
              "    }\n",
              "\n",
              "    .dataframe thead th {\n",
              "        text-align: right;\n",
              "    }\n",
              "</style>\n",
              "<table border=\"1\" class=\"dataframe\">\n",
              "  <thead>\n",
              "    <tr style=\"text-align: right;\">\n",
              "      <th></th>\n",
              "      <th>0</th>\n",
              "      <th>1</th>\n",
              "      <th>2</th>\n",
              "      <th>3</th>\n",
              "      <th>4</th>\n",
              "      <th>5</th>\n",
              "      <th>6</th>\n",
              "      <th>7</th>\n",
              "      <th>8</th>\n",
              "      <th>9</th>\n",
              "    </tr>\n",
              "  </thead>\n",
              "  <tbody>\n",
              "    <tr>\n",
              "      <th>0</th>\n",
              "      <td>367404.0</td>\n",
              "      <td>362988.0</td>\n",
              "      <td>347288.0</td>\n",
              "      <td>330648.0</td>\n",
              "      <td>354690.0</td>\n",
              "      <td>350092.0</td>\n",
              "      <td>346808.0</td>\n",
              "      <td>349124.0</td>\n",
              "      <td>348157.0</td>\n",
              "      <td>347762.0</td>\n",
              "    </tr>\n",
              "    <tr>\n",
              "      <th>1</th>\n",
              "      <td>336928.0</td>\n",
              "      <td>316483.0</td>\n",
              "      <td>278496.0</td>\n",
              "      <td>303033.0</td>\n",
              "      <td>299496.0</td>\n",
              "      <td>295061.0</td>\n",
              "      <td>299251.0</td>\n",
              "      <td>297492.0</td>\n",
              "      <td>300620.0</td>\n",
              "      <td>0.0</td>\n",
              "    </tr>\n",
              "    <tr>\n",
              "      <th>2</th>\n",
              "      <td>289198.0</td>\n",
              "      <td>311381.0</td>\n",
              "      <td>277980.0</td>\n",
              "      <td>277732.0</td>\n",
              "      <td>276563.0</td>\n",
              "      <td>278067.0</td>\n",
              "      <td>276704.0</td>\n",
              "      <td>281101.0</td>\n",
              "      <td>0.0</td>\n",
              "      <td>0.0</td>\n",
              "    </tr>\n",
              "    <tr>\n",
              "      <th>3</th>\n",
              "      <td>297174.0</td>\n",
              "      <td>277209.0</td>\n",
              "      <td>269739.0</td>\n",
              "      <td>272666.0</td>\n",
              "      <td>271318.0</td>\n",
              "      <td>267578.0</td>\n",
              "      <td>269592.0</td>\n",
              "      <td>0.0</td>\n",
              "      <td>0.0</td>\n",
              "      <td>0.0</td>\n",
              "    </tr>\n",
              "    <tr>\n",
              "      <th>4</th>\n",
              "      <td>181796.0</td>\n",
              "      <td>205079.0</td>\n",
              "      <td>199106.0</td>\n",
              "      <td>187833.0</td>\n",
              "      <td>185663.0</td>\n",
              "      <td>184940.0</td>\n",
              "      <td>0.0</td>\n",
              "      <td>0.0</td>\n",
              "      <td>0.0</td>\n",
              "      <td>0.0</td>\n",
              "    </tr>\n",
              "    <tr>\n",
              "      <th>5</th>\n",
              "      <td>114807.0</td>\n",
              "      <td>114774.0</td>\n",
              "      <td>101460.0</td>\n",
              "      <td>98430.0</td>\n",
              "      <td>96930.0</td>\n",
              "      <td>0.0</td>\n",
              "      <td>0.0</td>\n",
              "      <td>0.0</td>\n",
              "      <td>0.0</td>\n",
              "      <td>0.0</td>\n",
              "    </tr>\n",
              "    <tr>\n",
              "      <th>6</th>\n",
              "      <td>107934.0</td>\n",
              "      <td>107569.0</td>\n",
              "      <td>97730.0</td>\n",
              "      <td>96185.0</td>\n",
              "      <td>0.0</td>\n",
              "      <td>0.0</td>\n",
              "      <td>0.0</td>\n",
              "      <td>0.0</td>\n",
              "      <td>0.0</td>\n",
              "      <td>0.0</td>\n",
              "    </tr>\n",
              "    <tr>\n",
              "      <th>7</th>\n",
              "      <td>100686.0</td>\n",
              "      <td>94456.0</td>\n",
              "      <td>92314.0</td>\n",
              "      <td>0.0</td>\n",
              "      <td>0.0</td>\n",
              "      <td>0.0</td>\n",
              "      <td>0.0</td>\n",
              "      <td>0.0</td>\n",
              "      <td>0.0</td>\n",
              "      <td>0.0</td>\n",
              "    </tr>\n",
              "    <tr>\n",
              "      <th>8</th>\n",
              "      <td>53381.0</td>\n",
              "      <td>51205.0</td>\n",
              "      <td>0.0</td>\n",
              "      <td>0.0</td>\n",
              "      <td>0.0</td>\n",
              "      <td>0.0</td>\n",
              "      <td>0.0</td>\n",
              "      <td>0.0</td>\n",
              "      <td>0.0</td>\n",
              "      <td>0.0</td>\n",
              "    </tr>\n",
              "    <tr>\n",
              "      <th>9</th>\n",
              "      <td>6725.0</td>\n",
              "      <td>0.0</td>\n",
              "      <td>0.0</td>\n",
              "      <td>0.0</td>\n",
              "      <td>0.0</td>\n",
              "      <td>0.0</td>\n",
              "      <td>0.0</td>\n",
              "      <td>0.0</td>\n",
              "      <td>0.0</td>\n",
              "      <td>0.0</td>\n",
              "    </tr>\n",
              "  </tbody>\n",
              "</table>\n",
              "</div>\n",
              "    <div class=\"colab-df-buttons\">\n",
              "\n",
              "  <div class=\"colab-df-container\">\n",
              "    <button class=\"colab-df-convert\" onclick=\"convertToInteractive('df-b33e012e-f50b-41b2-9eb7-43fbbd514c72')\"\n",
              "            title=\"Convert this dataframe to an interactive table.\"\n",
              "            style=\"display:none;\">\n",
              "\n",
              "  <svg xmlns=\"http://www.w3.org/2000/svg\" height=\"24px\" viewBox=\"0 -960 960 960\">\n",
              "    <path d=\"M120-120v-720h720v720H120Zm60-500h600v-160H180v160Zm220 220h160v-160H400v160Zm0 220h160v-160H400v160ZM180-400h160v-160H180v160Zm440 0h160v-160H620v160ZM180-180h160v-160H180v160Zm440 0h160v-160H620v160Z\"/>\n",
              "  </svg>\n",
              "    </button>\n",
              "\n",
              "  <style>\n",
              "    .colab-df-container {\n",
              "      display:flex;\n",
              "      gap: 12px;\n",
              "    }\n",
              "\n",
              "    .colab-df-convert {\n",
              "      background-color: #E8F0FE;\n",
              "      border: none;\n",
              "      border-radius: 50%;\n",
              "      cursor: pointer;\n",
              "      display: none;\n",
              "      fill: #1967D2;\n",
              "      height: 32px;\n",
              "      padding: 0 0 0 0;\n",
              "      width: 32px;\n",
              "    }\n",
              "\n",
              "    .colab-df-convert:hover {\n",
              "      background-color: #E2EBFA;\n",
              "      box-shadow: 0px 1px 2px rgba(60, 64, 67, 0.3), 0px 1px 3px 1px rgba(60, 64, 67, 0.15);\n",
              "      fill: #174EA6;\n",
              "    }\n",
              "\n",
              "    .colab-df-buttons div {\n",
              "      margin-bottom: 4px;\n",
              "    }\n",
              "\n",
              "    [theme=dark] .colab-df-convert {\n",
              "      background-color: #3B4455;\n",
              "      fill: #D2E3FC;\n",
              "    }\n",
              "\n",
              "    [theme=dark] .colab-df-convert:hover {\n",
              "      background-color: #434B5C;\n",
              "      box-shadow: 0px 1px 3px 1px rgba(0, 0, 0, 0.15);\n",
              "      filter: drop-shadow(0px 1px 2px rgba(0, 0, 0, 0.3));\n",
              "      fill: #FFFFFF;\n",
              "    }\n",
              "  </style>\n",
              "\n",
              "    <script>\n",
              "      const buttonEl =\n",
              "        document.querySelector('#df-b33e012e-f50b-41b2-9eb7-43fbbd514c72 button.colab-df-convert');\n",
              "      buttonEl.style.display =\n",
              "        google.colab.kernel.accessAllowed ? 'block' : 'none';\n",
              "\n",
              "      async function convertToInteractive(key) {\n",
              "        const element = document.querySelector('#df-b33e012e-f50b-41b2-9eb7-43fbbd514c72');\n",
              "        const dataTable =\n",
              "          await google.colab.kernel.invokeFunction('convertToInteractive',\n",
              "                                                    [key], {});\n",
              "        if (!dataTable) return;\n",
              "\n",
              "        const docLinkHtml = 'Like what you see? Visit the ' +\n",
              "          '<a target=\"_blank\" href=https://colab.research.google.com/notebooks/data_table.ipynb>data table notebook</a>'\n",
              "          + ' to learn more about interactive tables.';\n",
              "        element.innerHTML = '';\n",
              "        dataTable['output_type'] = 'display_data';\n",
              "        await google.colab.output.renderOutput(dataTable, element);\n",
              "        const docLink = document.createElement('div');\n",
              "        docLink.innerHTML = docLinkHtml;\n",
              "        element.appendChild(docLink);\n",
              "      }\n",
              "    </script>\n",
              "  </div>\n",
              "\n",
              "\n",
              "<div id=\"df-d3de5855-b072-4d5c-8e93-ff164423ef99\">\n",
              "  <button class=\"colab-df-quickchart\" onclick=\"quickchart('df-d3de5855-b072-4d5c-8e93-ff164423ef99')\"\n",
              "            title=\"Suggest charts.\"\n",
              "            style=\"display:none;\">\n",
              "\n",
              "<svg xmlns=\"http://www.w3.org/2000/svg\" height=\"24px\"viewBox=\"0 0 24 24\"\n",
              "     width=\"24px\">\n",
              "    <g>\n",
              "        <path d=\"M19 3H5c-1.1 0-2 .9-2 2v14c0 1.1.9 2 2 2h14c1.1 0 2-.9 2-2V5c0-1.1-.9-2-2-2zM9 17H7v-7h2v7zm4 0h-2V7h2v10zm4 0h-2v-4h2v4z\"/>\n",
              "    </g>\n",
              "</svg>\n",
              "  </button>\n",
              "\n",
              "<style>\n",
              "  .colab-df-quickchart {\n",
              "      --bg-color: #E8F0FE;\n",
              "      --fill-color: #1967D2;\n",
              "      --hover-bg-color: #E2EBFA;\n",
              "      --hover-fill-color: #174EA6;\n",
              "      --disabled-fill-color: #AAA;\n",
              "      --disabled-bg-color: #DDD;\n",
              "  }\n",
              "\n",
              "  [theme=dark] .colab-df-quickchart {\n",
              "      --bg-color: #3B4455;\n",
              "      --fill-color: #D2E3FC;\n",
              "      --hover-bg-color: #434B5C;\n",
              "      --hover-fill-color: #FFFFFF;\n",
              "      --disabled-bg-color: #3B4455;\n",
              "      --disabled-fill-color: #666;\n",
              "  }\n",
              "\n",
              "  .colab-df-quickchart {\n",
              "    background-color: var(--bg-color);\n",
              "    border: none;\n",
              "    border-radius: 50%;\n",
              "    cursor: pointer;\n",
              "    display: none;\n",
              "    fill: var(--fill-color);\n",
              "    height: 32px;\n",
              "    padding: 0;\n",
              "    width: 32px;\n",
              "  }\n",
              "\n",
              "  .colab-df-quickchart:hover {\n",
              "    background-color: var(--hover-bg-color);\n",
              "    box-shadow: 0 1px 2px rgba(60, 64, 67, 0.3), 0 1px 3px 1px rgba(60, 64, 67, 0.15);\n",
              "    fill: var(--button-hover-fill-color);\n",
              "  }\n",
              "\n",
              "  .colab-df-quickchart-complete:disabled,\n",
              "  .colab-df-quickchart-complete:disabled:hover {\n",
              "    background-color: var(--disabled-bg-color);\n",
              "    fill: var(--disabled-fill-color);\n",
              "    box-shadow: none;\n",
              "  }\n",
              "\n",
              "  .colab-df-spinner {\n",
              "    border: 2px solid var(--fill-color);\n",
              "    border-color: transparent;\n",
              "    border-bottom-color: var(--fill-color);\n",
              "    animation:\n",
              "      spin 1s steps(1) infinite;\n",
              "  }\n",
              "\n",
              "  @keyframes spin {\n",
              "    0% {\n",
              "      border-color: transparent;\n",
              "      border-bottom-color: var(--fill-color);\n",
              "      border-left-color: var(--fill-color);\n",
              "    }\n",
              "    20% {\n",
              "      border-color: transparent;\n",
              "      border-left-color: var(--fill-color);\n",
              "      border-top-color: var(--fill-color);\n",
              "    }\n",
              "    30% {\n",
              "      border-color: transparent;\n",
              "      border-left-color: var(--fill-color);\n",
              "      border-top-color: var(--fill-color);\n",
              "      border-right-color: var(--fill-color);\n",
              "    }\n",
              "    40% {\n",
              "      border-color: transparent;\n",
              "      border-right-color: var(--fill-color);\n",
              "      border-top-color: var(--fill-color);\n",
              "    }\n",
              "    60% {\n",
              "      border-color: transparent;\n",
              "      border-right-color: var(--fill-color);\n",
              "    }\n",
              "    80% {\n",
              "      border-color: transparent;\n",
              "      border-right-color: var(--fill-color);\n",
              "      border-bottom-color: var(--fill-color);\n",
              "    }\n",
              "    90% {\n",
              "      border-color: transparent;\n",
              "      border-bottom-color: var(--fill-color);\n",
              "    }\n",
              "  }\n",
              "</style>\n",
              "\n",
              "  <script>\n",
              "    async function quickchart(key) {\n",
              "      const quickchartButtonEl =\n",
              "        document.querySelector('#' + key + ' button');\n",
              "      quickchartButtonEl.disabled = true;  // To prevent multiple clicks.\n",
              "      quickchartButtonEl.classList.add('colab-df-spinner');\n",
              "      try {\n",
              "        const charts = await google.colab.kernel.invokeFunction(\n",
              "            'suggestCharts', [key], {});\n",
              "      } catch (error) {\n",
              "        console.error('Error during call to suggestCharts:', error);\n",
              "      }\n",
              "      quickchartButtonEl.classList.remove('colab-df-spinner');\n",
              "      quickchartButtonEl.classList.add('colab-df-quickchart-complete');\n",
              "    }\n",
              "    (() => {\n",
              "      let quickchartButtonEl =\n",
              "        document.querySelector('#df-d3de5855-b072-4d5c-8e93-ff164423ef99 button');\n",
              "      quickchartButtonEl.style.display =\n",
              "        google.colab.kernel.accessAllowed ? 'block' : 'none';\n",
              "    })();\n",
              "  </script>\n",
              "</div>\n",
              "    </div>\n",
              "  </div>\n"
            ]
          },
          "metadata": {},
          "execution_count": 15
        }
      ]
    },
    {
      "cell_type": "code",
      "source": [],
      "metadata": {
        "id": "a8EZqUDGwpia"
      },
      "execution_count": null,
      "outputs": []
    }
  ]
}